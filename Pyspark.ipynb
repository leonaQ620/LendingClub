{
 "cells": [
  {
   "cell_type": "code",
   "execution_count": 1,
   "metadata": {},
   "outputs": [],
   "source": [
    "import pandas as pd\n",
    "import numpy as np\n",
    "import matplotlib.pyplot as plt\n",
    "%matplotlib inline\n",
    "import seaborn as sns\n",
    "from pyspark.sql import SparkSession\n",
    "\n",
    "spark = SparkSession.builder.getOrCreate()"
   ]
  },
  {
   "cell_type": "code",
   "execution_count": 2,
   "metadata": {},
   "outputs": [],
   "source": [
    "df = spark.read.csv(\"accepted_2007_to_2018Q4.csv\",header=True)"
   ]
  },
  {
   "cell_type": "code",
   "execution_count": 3,
   "metadata": {},
   "outputs": [
    {
     "data": {
      "text/html": [
       "<div>\n",
       "<style scoped>\n",
       "    .dataframe tbody tr th:only-of-type {\n",
       "        vertical-align: middle;\n",
       "    }\n",
       "\n",
       "    .dataframe tbody tr th {\n",
       "        vertical-align: top;\n",
       "    }\n",
       "\n",
       "    .dataframe thead th {\n",
       "        text-align: right;\n",
       "    }\n",
       "</style>\n",
       "<table border=\"1\" class=\"dataframe\">\n",
       "  <thead>\n",
       "    <tr style=\"text-align: right;\">\n",
       "      <th></th>\n",
       "      <th>summary</th>\n",
       "      <th>id</th>\n",
       "      <th>member_id</th>\n",
       "      <th>loan_amnt</th>\n",
       "      <th>funded_amnt</th>\n",
       "      <th>funded_amnt_inv</th>\n",
       "      <th>term</th>\n",
       "      <th>int_rate</th>\n",
       "      <th>installment</th>\n",
       "      <th>grade</th>\n",
       "      <th>...</th>\n",
       "      <th>hardship_payoff_balance_amount</th>\n",
       "      <th>hardship_last_payment_amount</th>\n",
       "      <th>disbursement_method</th>\n",
       "      <th>debt_settlement_flag</th>\n",
       "      <th>debt_settlement_flag_date</th>\n",
       "      <th>settlement_status</th>\n",
       "      <th>settlement_date</th>\n",
       "      <th>settlement_amount</th>\n",
       "      <th>settlement_percentage</th>\n",
       "      <th>settlement_term</th>\n",
       "    </tr>\n",
       "  </thead>\n",
       "  <tbody>\n",
       "    <tr>\n",
       "      <th>0</th>\n",
       "      <td>count</td>\n",
       "      <td>2260701</td>\n",
       "      <td>0</td>\n",
       "      <td>2260668</td>\n",
       "      <td>2260668</td>\n",
       "      <td>2260668</td>\n",
       "      <td>2260668</td>\n",
       "      <td>2260668</td>\n",
       "      <td>2260668</td>\n",
       "      <td>2260668</td>\n",
       "      <td>...</td>\n",
       "      <td>10918</td>\n",
       "      <td>10918</td>\n",
       "      <td>2260413</td>\n",
       "      <td>2260475</td>\n",
       "      <td>34348</td>\n",
       "      <td>34331</td>\n",
       "      <td>34308</td>\n",
       "      <td>34284</td>\n",
       "      <td>34270</td>\n",
       "      <td>34266</td>\n",
       "    </tr>\n",
       "    <tr>\n",
       "      <th>1</th>\n",
       "      <td>mean</td>\n",
       "      <td>8.032205972323003E7</td>\n",
       "      <td>None</td>\n",
       "      <td>15046.931227849467</td>\n",
       "      <td>15041.664056818605</td>\n",
       "      <td>15023.437745306326</td>\n",
       "      <td>None</td>\n",
       "      <td>13.092829115115324</td>\n",
       "      <td>445.80682288154975</td>\n",
       "      <td>None</td>\n",
       "      <td>...</td>\n",
       "      <td>11636.883941559037</td>\n",
       "      <td>193.9943207840982</td>\n",
       "      <td>None</td>\n",
       "      <td>None</td>\n",
       "      <td>None</td>\n",
       "      <td>None</td>\n",
       "      <td>None</td>\n",
       "      <td>5010.623941597316</td>\n",
       "      <td>47.78073820995767</td>\n",
       "      <td>13.191706818513651</td>\n",
       "    </tr>\n",
       "    <tr>\n",
       "      <th>2</th>\n",
       "      <td>stddev</td>\n",
       "      <td>4.4985611312901564E7</td>\n",
       "      <td>None</td>\n",
       "      <td>9190.245488232755</td>\n",
       "      <td>9188.413022381976</td>\n",
       "      <td>9192.331678793576</td>\n",
       "      <td>None</td>\n",
       "      <td>4.832138364571108</td>\n",
       "      <td>267.1735346084259</td>\n",
       "      <td>None</td>\n",
       "      <td>...</td>\n",
       "      <td>7625.98828115293</td>\n",
       "      <td>198.6294958183679</td>\n",
       "      <td>None</td>\n",
       "      <td>None</td>\n",
       "      <td>None</td>\n",
       "      <td>None</td>\n",
       "      <td>None</td>\n",
       "      <td>3693.1689736660164</td>\n",
       "      <td>7.311602282195859</td>\n",
       "      <td>8.159787347869285</td>\n",
       "    </tr>\n",
       "    <tr>\n",
       "      <th>3</th>\n",
       "      <td>min</td>\n",
       "      <td>1000007</td>\n",
       "      <td>None</td>\n",
       "      <td>1000.0</td>\n",
       "      <td>1000.0</td>\n",
       "      <td>0.0</td>\n",
       "      <td>36 months</td>\n",
       "      <td>10.0</td>\n",
       "      <td>100.0</td>\n",
       "      <td>A</td>\n",
       "      <td>...</td>\n",
       "      <td>10008.88</td>\n",
       "      <td>0.01</td>\n",
       "      <td>Cash</td>\n",
       "      <td>Cash</td>\n",
       "      <td>Apr-2013</td>\n",
       "      <td>ACTIVE</td>\n",
       "      <td>Apr-2013</td>\n",
       "      <td>1000.0</td>\n",
       "      <td>0.2</td>\n",
       "      <td>0.0</td>\n",
       "    </tr>\n",
       "    <tr>\n",
       "      <th>4</th>\n",
       "      <td>max</td>\n",
       "      <td>Total amount funded in policy code 2: 873652739</td>\n",
       "      <td>None</td>\n",
       "      <td>9975.0</td>\n",
       "      <td>9975.0</td>\n",
       "      <td>9999.99296019743</td>\n",
       "      <td>60 months</td>\n",
       "      <td>9.99</td>\n",
       "      <td>999.99</td>\n",
       "      <td>G</td>\n",
       "      <td>...</td>\n",
       "      <td>N</td>\n",
       "      <td>N</td>\n",
       "      <td>N</td>\n",
       "      <td>Y</td>\n",
       "      <td>Sep-2018</td>\n",
       "      <td>N</td>\n",
       "      <td>Sep-2018</td>\n",
       "      <td>N</td>\n",
       "      <td>Y</td>\n",
       "      <td>N</td>\n",
       "    </tr>\n",
       "  </tbody>\n",
       "</table>\n",
       "<p>5 rows × 152 columns</p>\n",
       "</div>"
      ],
      "text/plain": [
       "  summary                                               id member_id  \\\n",
       "0   count                                          2260701         0   \n",
       "1    mean                              8.032205972323003E7      None   \n",
       "2  stddev                             4.4985611312901564E7      None   \n",
       "3     min                                          1000007      None   \n",
       "4     max  Total amount funded in policy code 2: 873652739      None   \n",
       "\n",
       "            loan_amnt         funded_amnt     funded_amnt_inv        term  \\\n",
       "0             2260668             2260668             2260668     2260668   \n",
       "1  15046.931227849467  15041.664056818605  15023.437745306326        None   \n",
       "2   9190.245488232755   9188.413022381976   9192.331678793576        None   \n",
       "3              1000.0              1000.0                 0.0   36 months   \n",
       "4              9975.0              9975.0    9999.99296019743   60 months   \n",
       "\n",
       "             int_rate         installment    grade  ...  \\\n",
       "0             2260668             2260668  2260668  ...   \n",
       "1  13.092829115115324  445.80682288154975     None  ...   \n",
       "2   4.832138364571108   267.1735346084259     None  ...   \n",
       "3                10.0               100.0        A  ...   \n",
       "4                9.99              999.99        G  ...   \n",
       "\n",
       "  hardship_payoff_balance_amount hardship_last_payment_amount  \\\n",
       "0                          10918                        10918   \n",
       "1             11636.883941559037            193.9943207840982   \n",
       "2               7625.98828115293            198.6294958183679   \n",
       "3                       10008.88                         0.01   \n",
       "4                              N                            N   \n",
       "\n",
       "  disbursement_method debt_settlement_flag debt_settlement_flag_date  \\\n",
       "0             2260413              2260475                     34348   \n",
       "1                None                 None                      None   \n",
       "2                None                 None                      None   \n",
       "3                Cash                 Cash                  Apr-2013   \n",
       "4                   N                    Y                  Sep-2018   \n",
       "\n",
       "  settlement_status settlement_date   settlement_amount settlement_percentage  \\\n",
       "0             34331           34308               34284                 34270   \n",
       "1              None            None   5010.623941597316     47.78073820995767   \n",
       "2              None            None  3693.1689736660164     7.311602282195859   \n",
       "3            ACTIVE        Apr-2013              1000.0                   0.2   \n",
       "4                 N        Sep-2018                   N                     Y   \n",
       "\n",
       "      settlement_term  \n",
       "0               34266  \n",
       "1  13.191706818513651  \n",
       "2   8.159787347869285  \n",
       "3                 0.0  \n",
       "4                   N  \n",
       "\n",
       "[5 rows x 152 columns]"
      ]
     },
     "execution_count": 3,
     "metadata": {},
     "output_type": "execute_result"
    }
   ],
   "source": [
    "df.describe().toPandas()"
   ]
  },
  {
   "cell_type": "code",
   "execution_count": 4,
   "metadata": {},
   "outputs": [],
   "source": [
    "df_new = df.select('loan_amnt','term','int_rate','installment','sub_grade','emp_length','home_ownership','annual_inc',\\\n",
    "           'verification_status','issue_d','loan_status','purpose','addr_state','dti','earliest_cr_line','fico_range_low',\\\n",
    "          'fico_range_high','open_acc','pub_rec','revol_bal','revol_util','total_acc','initial_list_status','application_type',\\\n",
    "          'mort_acc','pub_rec_bankruptcies')"
   ]
  },
  {
   "cell_type": "code",
   "execution_count": 5,
   "metadata": {},
   "outputs": [
    {
     "name": "stdout",
     "output_type": "stream",
     "text": [
      "root\n",
      " |-- loan_amnt: string (nullable = true)\n",
      " |-- term: string (nullable = true)\n",
      " |-- int_rate: string (nullable = true)\n",
      " |-- installment: string (nullable = true)\n",
      " |-- sub_grade: string (nullable = true)\n",
      " |-- emp_length: string (nullable = true)\n",
      " |-- home_ownership: string (nullable = true)\n",
      " |-- annual_inc: string (nullable = true)\n",
      " |-- verification_status: string (nullable = true)\n",
      " |-- issue_d: string (nullable = true)\n",
      " |-- loan_status: string (nullable = true)\n",
      " |-- purpose: string (nullable = true)\n",
      " |-- addr_state: string (nullable = true)\n",
      " |-- dti: string (nullable = true)\n",
      " |-- earliest_cr_line: string (nullable = true)\n",
      " |-- fico_range_low: string (nullable = true)\n",
      " |-- fico_range_high: string (nullable = true)\n",
      " |-- open_acc: string (nullable = true)\n",
      " |-- pub_rec: string (nullable = true)\n",
      " |-- revol_bal: string (nullable = true)\n",
      " |-- revol_util: string (nullable = true)\n",
      " |-- total_acc: string (nullable = true)\n",
      " |-- initial_list_status: string (nullable = true)\n",
      " |-- application_type: string (nullable = true)\n",
      " |-- mort_acc: string (nullable = true)\n",
      " |-- pub_rec_bankruptcies: string (nullable = true)\n",
      "\n"
     ]
    }
   ],
   "source": [
    "df_new.printSchema()"
   ]
  },
  {
   "cell_type": "code",
   "execution_count": 6,
   "metadata": {},
   "outputs": [],
   "source": [
    "df_new = df_new.filter(\"loan_status == 'Fully Paid' or loan_status == 'Charged Off'\")"
   ]
  },
  {
   "cell_type": "code",
   "execution_count": 7,
   "metadata": {},
   "outputs": [],
   "source": [
    "from pyspark.sql.functions import count, when, isnull"
   ]
  },
  {
   "cell_type": "code",
   "execution_count": 8,
   "metadata": {},
   "outputs": [
    {
     "data": {
      "text/html": [
       "<div>\n",
       "<style scoped>\n",
       "    .dataframe tbody tr th:only-of-type {\n",
       "        vertical-align: middle;\n",
       "    }\n",
       "\n",
       "    .dataframe tbody tr th {\n",
       "        vertical-align: top;\n",
       "    }\n",
       "\n",
       "    .dataframe thead th {\n",
       "        text-align: right;\n",
       "    }\n",
       "</style>\n",
       "<table border=\"1\" class=\"dataframe\">\n",
       "  <thead>\n",
       "    <tr style=\"text-align: right;\">\n",
       "      <th></th>\n",
       "      <th>0</th>\n",
       "    </tr>\n",
       "  </thead>\n",
       "  <tbody>\n",
       "    <tr>\n",
       "      <th>loan_amnt</th>\n",
       "      <td>0</td>\n",
       "    </tr>\n",
       "    <tr>\n",
       "      <th>term</th>\n",
       "      <td>0</td>\n",
       "    </tr>\n",
       "    <tr>\n",
       "      <th>int_rate</th>\n",
       "      <td>0</td>\n",
       "    </tr>\n",
       "    <tr>\n",
       "      <th>installment</th>\n",
       "      <td>0</td>\n",
       "    </tr>\n",
       "    <tr>\n",
       "      <th>sub_grade</th>\n",
       "      <td>0</td>\n",
       "    </tr>\n",
       "    <tr>\n",
       "      <th>emp_length</th>\n",
       "      <td>78511</td>\n",
       "    </tr>\n",
       "    <tr>\n",
       "      <th>home_ownership</th>\n",
       "      <td>0</td>\n",
       "    </tr>\n",
       "    <tr>\n",
       "      <th>annual_inc</th>\n",
       "      <td>0</td>\n",
       "    </tr>\n",
       "    <tr>\n",
       "      <th>verification_status</th>\n",
       "      <td>0</td>\n",
       "    </tr>\n",
       "    <tr>\n",
       "      <th>issue_d</th>\n",
       "      <td>0</td>\n",
       "    </tr>\n",
       "    <tr>\n",
       "      <th>loan_status</th>\n",
       "      <td>0</td>\n",
       "    </tr>\n",
       "    <tr>\n",
       "      <th>purpose</th>\n",
       "      <td>0</td>\n",
       "    </tr>\n",
       "    <tr>\n",
       "      <th>addr_state</th>\n",
       "      <td>1</td>\n",
       "    </tr>\n",
       "    <tr>\n",
       "      <th>dti</th>\n",
       "      <td>375</td>\n",
       "    </tr>\n",
       "    <tr>\n",
       "      <th>earliest_cr_line</th>\n",
       "      <td>1</td>\n",
       "    </tr>\n",
       "    <tr>\n",
       "      <th>fico_range_low</th>\n",
       "      <td>1</td>\n",
       "    </tr>\n",
       "    <tr>\n",
       "      <th>fico_range_high</th>\n",
       "      <td>1</td>\n",
       "    </tr>\n",
       "    <tr>\n",
       "      <th>open_acc</th>\n",
       "      <td>72</td>\n",
       "    </tr>\n",
       "    <tr>\n",
       "      <th>pub_rec</th>\n",
       "      <td>58</td>\n",
       "    </tr>\n",
       "    <tr>\n",
       "      <th>revol_bal</th>\n",
       "      <td>48</td>\n",
       "    </tr>\n",
       "    <tr>\n",
       "      <th>revol_util</th>\n",
       "      <td>886</td>\n",
       "    </tr>\n",
       "    <tr>\n",
       "      <th>total_acc</th>\n",
       "      <td>17</td>\n",
       "    </tr>\n",
       "    <tr>\n",
       "      <th>initial_list_status</th>\n",
       "      <td>14</td>\n",
       "    </tr>\n",
       "    <tr>\n",
       "      <th>application_type</th>\n",
       "      <td>51</td>\n",
       "    </tr>\n",
       "    <tr>\n",
       "      <th>mort_acc</th>\n",
       "      <td>47260</td>\n",
       "    </tr>\n",
       "    <tr>\n",
       "      <th>pub_rec_bankruptcies</th>\n",
       "      <td>911</td>\n",
       "    </tr>\n",
       "  </tbody>\n",
       "</table>\n",
       "</div>"
      ],
      "text/plain": [
       "                          0\n",
       "loan_amnt                 0\n",
       "term                      0\n",
       "int_rate                  0\n",
       "installment               0\n",
       "sub_grade                 0\n",
       "emp_length            78511\n",
       "home_ownership            0\n",
       "annual_inc                0\n",
       "verification_status       0\n",
       "issue_d                   0\n",
       "loan_status               0\n",
       "purpose                   0\n",
       "addr_state                1\n",
       "dti                     375\n",
       "earliest_cr_line          1\n",
       "fico_range_low            1\n",
       "fico_range_high           1\n",
       "open_acc                 72\n",
       "pub_rec                  58\n",
       "revol_bal                48\n",
       "revol_util              886\n",
       "total_acc                17\n",
       "initial_list_status      14\n",
       "application_type         51\n",
       "mort_acc              47260\n",
       "pub_rec_bankruptcies    911"
      ]
     },
     "execution_count": 8,
     "metadata": {},
     "output_type": "execute_result"
    }
   ],
   "source": [
    "nacounts = df_new.select([count(when(isnull(c), c)).alias(c) for c in df_new.columns]).toPandas()\n",
    "nacounts.transpose()"
   ]
  },
  {
   "cell_type": "code",
   "execution_count": 9,
   "metadata": {},
   "outputs": [],
   "source": [
    "df_new = df_new.dropna()"
   ]
  },
  {
   "cell_type": "code",
   "execution_count": 10,
   "metadata": {},
   "outputs": [],
   "source": [
    "df_new = df_new.dropDuplicates()"
   ]
  },
  {
   "cell_type": "code",
   "execution_count": 11,
   "metadata": {},
   "outputs": [],
   "source": [
    "from pyspark.sql.functions import mean,stddev,col,udf,stddev_pop\n",
    "import pyspark.sql.functions as F\n",
    "import pyspark.sql.types as t"
   ]
  },
  {
   "cell_type": "code",
   "execution_count": 12,
   "metadata": {},
   "outputs": [],
   "source": [
    "df_vis = df_new.select(df_new.loan_amnt.cast(\"float\").alias('loan_amnt'), \n",
    "              df_new.int_rate.cast(\"float\").alias('int_rate'), \n",
    "              df_new.installment.cast(\"float\").alias('installment'), \n",
    "              df_new.annual_inc.cast(\"float\").alias('annual_inc'), \n",
    "              df_new.dti.cast(\"float\").alias('dti'), \n",
    "              df_new.fico_range_low.cast(\"float\").alias('fico_range_low'), \n",
    "              df_new.fico_range_high.cast(\"float\").alias('fico_range_high'), \n",
    "              df_new.open_acc.cast(\"float\").alias('open_acc'), \n",
    "              df_new.pub_rec.cast(\"float\").alias('pub_rec'), \n",
    "              df_new.revol_bal.cast(\"float\").alias('revol_bal'), \n",
    "              df_new.revol_util.cast(\"float\").alias('revol_util'), \n",
    "              df_new.total_acc.cast(\"float\").alias('total_acc'), \n",
    "              df_new.mort_acc.cast(\"float\").alias('mort_acc'), \n",
    "              df_new.pub_rec_bankruptcies.cast(\"float\").alias('pub_rec_bankruptcies')\n",
    "              ).toPandas()"
   ]
  },
  {
   "cell_type": "code",
   "execution_count": 13,
   "metadata": {},
   "outputs": [
    {
     "data": {
      "text/plain": [
       "Text(0.5, 1.0, 'Check the outliers')"
      ]
     },
     "execution_count": 13,
     "metadata": {},
     "output_type": "execute_result"
    },
    {
     "data": {
      "image/png": "[encoded data removed]",
      "text/plain": [
       "<Figure size 432x288 with 1 Axes>"
      ]
     },
     "metadata": {
      "needs_background": "light"
     },
     "output_type": "display_data"
    }
   ],
   "source": [
    "sns.boxplot(data=df_vis)\n",
    "plt.xticks(rotation=90)\n",
    "plt.title('Check the outliers')"
   ]
  },
  {
   "cell_type": "code",
   "execution_count": 14,
   "metadata": {},
   "outputs": [],
   "source": [
    "df_test = df_new.filter(\"annual_inc < 200000 and revol_bal < 60000\")"
   ]
  },
  {
   "cell_type": "code",
   "execution_count": 15,
   "metadata": {},
   "outputs": [
    {
     "data": {
      "text/plain": [
       "Text(0.5, 1.0, 'Check the outliers')"
      ]
     },
     "execution_count": 15,
     "metadata": {},
     "output_type": "execute_result"
    },
    {
     "data": {
      "image/png": "[encoded data removed]",
      "text/plain": [
       "<Figure size 432x288 with 1 Axes>"
      ]
     },
     "metadata": {
      "needs_background": "light"
     },
     "output_type": "display_data"
    }
   ],
   "source": [
    "df_vis = df_test.select(df_test.loan_amnt.cast(\"float\").alias('loan_amnt'), \n",
    "              df_test.int_rate.cast(\"float\").alias('int_rate'), \n",
    "              df_test.installment.cast(\"float\").alias('installment'), \n",
    "              df_test.annual_inc.cast(\"float\").alias('annual_inc'), \n",
    "              df_test.dti.cast(\"float\").alias('dti'), \n",
    "              df_test.fico_range_low.cast(\"float\").alias('fico_range_low'), \n",
    "              df_test.fico_range_high.cast(\"float\").alias('fico_range_high'), \n",
    "              df_test.open_acc.cast(\"float\").alias('open_acc'), \n",
    "              df_test.pub_rec.cast(\"float\").alias('pub_rec'), \n",
    "              df_test.revol_bal.cast(\"float\").alias('revol_bal'), \n",
    "              df_test.revol_util.cast(\"float\").alias('revol_util'), \n",
    "              df_test.total_acc.cast(\"float\").alias('total_acc'), \n",
    "              df_test.mort_acc.cast(\"float\").alias('mort_acc'), \n",
    "              df_test.pub_rec_bankruptcies.cast(\"float\").alias('pub_rec_bankruptcies')\n",
    "              ).toPandas()\n",
    "sns.boxplot(data=df_vis)\n",
    "plt.xticks(rotation=90)\n",
    "plt.title('Check the outliers')"
   ]
  },
  {
   "cell_type": "code",
   "execution_count": 16,
   "metadata": {},
   "outputs": [],
   "source": [
    "from pyspark.ml.feature import OneHotEncoder, StringIndexer"
   ]
  },
  {
   "cell_type": "code",
   "execution_count": 17,
   "metadata": {},
   "outputs": [],
   "source": [
    "categorical = ['term','sub_grade','emp_length','home_ownership','verification_status','purpose','addr_state',\\\n",
    "              'initial_list_status','application_type']"
   ]
  },
  {
   "cell_type": "code",
   "execution_count": 18,
   "metadata": {},
   "outputs": [],
   "source": [
    "#One-hot encoding\n",
    "from pyspark.ml import Pipeline\n",
    "stage_string = [StringIndexer(inputCol= c, outputCol= c+\"_string_encoded\") for c in categorical]\n",
    "stage_one_hot = [OneHotEncoder(inputCol= c+\"_string_encoded\", outputCol= c+ \"_one_hot\") for c in categorical]\n",
    "\n",
    "ppl = Pipeline(stages= stage_string + stage_one_hot)\n",
    "df_test2 = ppl.fit(df_test).transform(df_test)"
   ]
  },
  {
   "cell_type": "code",
   "execution_count": 19,
   "metadata": {},
   "outputs": [
    {
     "name": "stdout",
     "output_type": "stream",
     "text": [
      "root\n",
      " |-- loan_amnt: string (nullable = true)\n",
      " |-- term: string (nullable = true)\n",
      " |-- int_rate: string (nullable = true)\n",
      " |-- installment: string (nullable = true)\n",
      " |-- sub_grade: string (nullable = true)\n",
      " |-- emp_length: string (nullable = true)\n",
      " |-- home_ownership: string (nullable = true)\n",
      " |-- annual_inc: string (nullable = true)\n",
      " |-- verification_status: string (nullable = true)\n",
      " |-- issue_d: string (nullable = true)\n",
      " |-- loan_status: string (nullable = true)\n",
      " |-- purpose: string (nullable = true)\n",
      " |-- addr_state: string (nullable = true)\n",
      " |-- dti: string (nullable = true)\n",
      " |-- earliest_cr_line: string (nullable = true)\n",
      " |-- fico_range_low: string (nullable = true)\n",
      " |-- fico_range_high: string (nullable = true)\n",
      " |-- open_acc: string (nullable = true)\n",
      " |-- pub_rec: string (nullable = true)\n",
      " |-- revol_bal: string (nullable = true)\n",
      " |-- revol_util: string (nullable = true)\n",
      " |-- total_acc: string (nullable = true)\n",
      " |-- initial_list_status: string (nullable = true)\n",
      " |-- application_type: string (nullable = true)\n",
      " |-- mort_acc: string (nullable = true)\n",
      " |-- pub_rec_bankruptcies: string (nullable = true)\n",
      " |-- term_string_encoded: double (nullable = false)\n",
      " |-- sub_grade_string_encoded: double (nullable = false)\n",
      " |-- emp_length_string_encoded: double (nullable = false)\n",
      " |-- home_ownership_string_encoded: double (nullable = false)\n",
      " |-- verification_status_string_encoded: double (nullable = false)\n",
      " |-- purpose_string_encoded: double (nullable = false)\n",
      " |-- addr_state_string_encoded: double (nullable = false)\n",
      " |-- initial_list_status_string_encoded: double (nullable = false)\n",
      " |-- application_type_string_encoded: double (nullable = false)\n",
      " |-- term_one_hot: vector (nullable = true)\n",
      " |-- sub_grade_one_hot: vector (nullable = true)\n",
      " |-- emp_length_one_hot: vector (nullable = true)\n",
      " |-- home_ownership_one_hot: vector (nullable = true)\n",
      " |-- verification_status_one_hot: vector (nullable = true)\n",
      " |-- purpose_one_hot: vector (nullable = true)\n",
      " |-- addr_state_one_hot: vector (nullable = true)\n",
      " |-- initial_list_status_one_hot: vector (nullable = true)\n",
      " |-- application_type_one_hot: vector (nullable = true)\n",
      "\n"
     ]
    }
   ],
   "source": [
    "df_test2.printSchema()"
   ]
  },
  {
   "cell_type": "code",
   "execution_count": 20,
   "metadata": {},
   "outputs": [
    {
     "data": {
      "text/plain": [
       "Text(0.5, 1.0, 'Correlation each variables')"
      ]
     },
     "execution_count": 20,
     "metadata": {},
     "output_type": "execute_result"
    },
    {
     "data": {
      "image/png": "[encoded data removed]",
      "text/plain": [
       "<Figure size 1440x1440 with 2 Axes>"
      ]
     },
     "metadata": {
      "needs_background": "light"
     },
     "output_type": "display_data"
    }
   ],
   "source": [
    "corr = df_vis.corr()\n",
    "f,ax = plt.subplots(figsize=(20,20))\n",
    "sns.heatmap(corr, annot=True, linewidths=0.5, ax =ax)\n",
    "plt.title(\"Correlation each variables\")"
   ]
  },
  {
   "cell_type": "code",
   "execution_count": 21,
   "metadata": {},
   "outputs": [],
   "source": [
    "from statsmodels.stats.outliers_influence import variance_inflation_factor"
   ]
  },
  {
   "cell_type": "code",
   "execution_count": 22,
   "metadata": {},
   "outputs": [],
   "source": [
    "def multicollinearity(df):\n",
    "    vif_data = pd.DataFrame()\n",
    "    vif_data['IndependVariables'] = df.columns\n",
    "    vif_data['VIF'] = [variance_inflation_factor(df.values, i)\\\n",
    "                       for i in range(len(df.columns))]\n",
    "    vif_data = vif_data.sort_values('VIF', ascending = False)\n",
    "    while vif_data['VIF'].iloc[0] > 10:\n",
    "        maxName = vif_data.iloc[0]\n",
    "        df = df.drop([maxName.IndependVariables],axis = 1)\n",
    "        vif_data = pd.DataFrame()\n",
    "        vif_data['IndependVariables'] = df.columns\n",
    "        vif_data['VIF'] = [variance_inflation_factor(df.values, i)\\\n",
    "                           for i in range(len(df.columns))]\n",
    "        vif_data = vif_data.sort_values('VIF', ascending = False)\n",
    "        print(vif_data)\n",
    "    return df"
   ]
  },
  {
   "cell_type": "code",
   "execution_count": 23,
   "metadata": {},
   "outputs": [
    {
     "name": "stdout",
     "output_type": "stream",
     "text": [
      "       IndependVariables        VIF\n",
      "0              loan_amnt  43.820241\n",
      "2            installment  42.919804\n",
      "5         fico_range_low  20.095434\n",
      "6               open_acc  12.961925\n",
      "10             total_acc  12.717099\n",
      "1               int_rate   9.931352\n",
      "3             annual_inc   9.046970\n",
      "9             revol_util   7.683606\n",
      "4                    dti   6.077547\n",
      "8              revol_bal   4.962075\n",
      "11              mort_acc   2.213248\n",
      "12  pub_rec_bankruptcies   2.016074\n",
      "7                pub_rec   1.995154\n",
      "       IndependVariables        VIF\n",
      "4         fico_range_low  20.085632\n",
      "5               open_acc  12.927392\n",
      "9              total_acc  12.698986\n",
      "0               int_rate   9.907071\n",
      "2             annual_inc   8.981767\n",
      "8             revol_util   7.586494\n",
      "3                    dti   6.077541\n",
      "1            installment   5.709937\n",
      "7              revol_bal   4.874694\n",
      "10              mort_acc   2.201321\n",
      "11  pub_rec_bankruptcies   2.015953\n",
      "6                pub_rec   1.993950\n",
      "       IndependVariables        VIF\n",
      "8              total_acc  12.636437\n",
      "4               open_acc  12.395022\n",
      "0               int_rate   8.470182\n",
      "2             annual_inc   7.364914\n",
      "7             revol_util   6.940190\n",
      "1            installment   5.698647\n",
      "3                    dti   5.578538\n",
      "6              revol_bal   4.647733\n",
      "9               mort_acc   2.199558\n",
      "10  pub_rec_bankruptcies   2.014824\n",
      "5                pub_rec   1.993929\n",
      "      IndependVariables       VIF\n",
      "0              int_rate  8.470095\n",
      "2            annual_inc  7.177840\n",
      "7            revol_util  6.936989\n",
      "4              open_acc  6.583468\n",
      "1           installment  5.697799\n",
      "3                   dti  5.471161\n",
      "6             revol_bal  4.621233\n",
      "9  pub_rec_bankruptcies  2.003691\n",
      "5               pub_rec  1.992609\n",
      "8              mort_acc  1.907253\n"
     ]
    }
   ],
   "source": [
    "X_new=multicollinearity(df_vis)"
   ]
  },
  {
   "cell_type": "code",
   "execution_count": 24,
   "metadata": {},
   "outputs": [
    {
     "data": {
      "text/plain": [
       "Index(['int_rate', 'installment', 'annual_inc', 'dti', 'open_acc', 'pub_rec',\n",
       "       'revol_bal', 'revol_util', 'mort_acc', 'pub_rec_bankruptcies'],\n",
       "      dtype='object')"
      ]
     },
     "execution_count": 24,
     "metadata": {},
     "output_type": "execute_result"
    }
   ],
   "source": [
    "X_new.columns"
   ]
  },
  {
   "cell_type": "code",
   "execution_count": 25,
   "metadata": {},
   "outputs": [],
   "source": [
    "df_final = df_test2.select(df_test2.int_rate.cast(\"float\").alias('int_rate'),\n",
    "                           df_test2.installment.cast(\"float\").alias('installment'),\n",
    "                           df_test2.annual_inc.cast(\"float\").alias('annual_inc'),\n",
    "                           df_test2.dti.cast(\"float\").alias('dti'),\n",
    "                           df_test2.open_acc.cast(\"float\").alias('open_acc'),\n",
    "                           df_test2.pub_rec.cast(\"float\").alias('pub_rec'),\n",
    "                           df_test2.revol_bal.cast(\"float\").alias('revol_bal'),\n",
    "                           df_test2.revol_util.cast(\"float\").alias('revol_util'),\n",
    "                           df_test2.mort_acc.cast(\"float\").alias('mort_acc'),\n",
    "                           df_test2.pub_rec_bankruptcies.cast(\"float\").alias('pub_rec_bankruptcies'),\n",
    "                           df_test2.term_one_hot.alias(\"term_vec\"), \n",
    "                           df_test2.sub_grade_one_hot.alias(\"sub_grade_vec\"), \n",
    "                           df_test2.emp_length_one_hot.alias(\"emp_length_vec\"), \n",
    "                           df_test2.home_ownership_one_hot.alias(\"home_ownership_vec\"), \n",
    "                           df_test2.verification_status_one_hot.alias(\"verification_status_vec\"), \n",
    "                           df_test2.purpose_one_hot.alias(\"purpose_vec\"), \n",
    "                           df_test2.addr_state_one_hot.alias(\"addr_state_vec\"), \n",
    "                           df_test2.initial_list_status_one_hot.alias(\"initial_list_status_vec\"),\n",
    "                           df_test2.application_type_one_hot.alias(\"application_type_vec\"),\n",
    "                           df_test2.loan_status.alias(\"loan_status\")\n",
    "                          )"
   ]
  },
  {
   "cell_type": "code",
   "execution_count": 26,
   "metadata": {},
   "outputs": [
    {
     "name": "stdout",
     "output_type": "stream",
     "text": [
      "root\n",
      " |-- int_rate: float (nullable = true)\n",
      " |-- installment: float (nullable = true)\n",
      " |-- annual_inc: float (nullable = true)\n",
      " |-- dti: float (nullable = true)\n",
      " |-- open_acc: float (nullable = true)\n",
      " |-- pub_rec: float (nullable = true)\n",
      " |-- revol_bal: float (nullable = true)\n",
      " |-- revol_util: float (nullable = true)\n",
      " |-- mort_acc: float (nullable = true)\n",
      " |-- pub_rec_bankruptcies: float (nullable = true)\n",
      " |-- term_vec: vector (nullable = true)\n",
      " |-- sub_grade_vec: vector (nullable = true)\n",
      " |-- emp_length_vec: vector (nullable = true)\n",
      " |-- home_ownership_vec: vector (nullable = true)\n",
      " |-- verification_status_vec: vector (nullable = true)\n",
      " |-- purpose_vec: vector (nullable = true)\n",
      " |-- addr_state_vec: vector (nullable = true)\n",
      " |-- initial_list_status_vec: vector (nullable = true)\n",
      " |-- application_type_vec: vector (nullable = true)\n",
      " |-- loan_status: string (nullable = true)\n",
      "\n"
     ]
    }
   ],
   "source": [
    "df_final.printSchema()"
   ]
  },
  {
   "cell_type": "code",
   "execution_count": 27,
   "metadata": {},
   "outputs": [],
   "source": [
    "df_final = df_final.replace(['Charged Off', 'Fully Paid'], [\"1\", \"0\"], 'loan_status')"
   ]
  },
  {
   "cell_type": "code",
   "execution_count": 28,
   "metadata": {},
   "outputs": [
    {
     "name": "stdout",
     "output_type": "stream",
     "text": [
      "+-------+------------------+\n",
      "|summary|       loan_status|\n",
      "+-------+------------------+\n",
      "|  count|           1165380|\n",
      "|   mean|0.1996198664813194|\n",
      "| stddev|0.3997147889256201|\n",
      "|    min|                 0|\n",
      "|    max|                 1|\n",
      "+-------+------------------+\n",
      "\n"
     ]
    }
   ],
   "source": [
    "df_final.select('loan_status').describe().show()"
   ]
  },
  {
   "cell_type": "code",
   "execution_count": 29,
   "metadata": {},
   "outputs": [
    {
     "name": "stdout",
     "output_type": "stream",
     "text": [
      "+--------+-----------+----------+-----+--------+-------+---------+----------+--------+--------------------+-------------+---------------+--------------+------------------+-----------------------+--------------+---------------+-----------------------+--------------------+-----------+\n",
      "|int_rate|installment|annual_inc|  dti|open_acc|pub_rec|revol_bal|revol_util|mort_acc|pub_rec_bankruptcies|     term_vec|  sub_grade_vec|emp_length_vec|home_ownership_vec|verification_status_vec|   purpose_vec| addr_state_vec|initial_list_status_vec|application_type_vec|loan_status|\n",
      "+--------+-----------+----------+-----+--------+-------+---------+----------+--------+--------------------+-------------+---------------+--------------+------------------+-----------------------+--------------+---------------+-----------------------+--------------------+-----------+\n",
      "|    5.32|     481.84|  150000.0| 1.14|     7.0|    0.0|   7195.0|       9.4|     3.0|                 0.0|(1,[0],[1.0])|(34,[14],[1.0])|(10,[4],[1.0])|     (5,[0],[1.0])|          (2,[1],[1.0])|(13,[0],[1.0])| (50,[1],[1.0])|          (1,[0],[1.0])|       (1,[0],[1.0])|          0|\n",
      "|    5.32|     168.65|   52000.0| 18.9|    13.0|    0.0|  11267.0|      28.8|     1.0|                 0.0|(1,[0],[1.0])|(34,[14],[1.0])|(10,[0],[1.0])|     (5,[0],[1.0])|          (2,[1],[1.0])|(13,[0],[1.0])|(50,[13],[1.0])|              (1,[],[])|       (1,[0],[1.0])|          0|\n",
      "|    5.32|     843.22|   91000.0| 9.03|     6.0|    0.0|  13050.0|      27.5|     3.0|                 0.0|(1,[0],[1.0])|(34,[14],[1.0])|(10,[0],[1.0])|     (5,[0],[1.0])|          (2,[1],[1.0])|(13,[1],[1.0])| (50,[9],[1.0])|              (1,[],[])|       (1,[0],[1.0])|          0|\n",
      "|    5.32|     168.65|  180000.0|15.48|    24.0|    0.0|  14493.0|      21.9|     6.0|                 0.0|(1,[0],[1.0])|(34,[14],[1.0])|(10,[0],[1.0])|     (5,[0],[1.0])|          (2,[1],[1.0])|(13,[2],[1.0])| (50,[4],[1.0])|          (1,[0],[1.0])|       (1,[0],[1.0])|          0|\n",
      "|    5.32|     271.04|  110000.0| 19.5|    17.0|    0.0|  23606.0|      24.0|     2.0|                 0.0|(1,[0],[1.0])|(34,[14],[1.0])|(10,[0],[1.0])|     (5,[0],[1.0])|          (2,[1],[1.0])|(13,[0],[1.0])| (50,[8],[1.0])|          (1,[0],[1.0])|       (1,[0],[1.0])|          0|\n",
      "|    5.32|     150.58|   49850.0| 28.0|    12.0|    0.0|   2946.0|       3.5|     1.0|                 0.0|(1,[0],[1.0])|(34,[14],[1.0])|(10,[0],[1.0])|     (5,[0],[1.0])|          (2,[1],[1.0])|(13,[0],[1.0])|(50,[23],[1.0])|          (1,[0],[1.0])|       (1,[0],[1.0])|          0|\n",
      "+--------+-----------+----------+-----+--------+-------+---------+----------+--------+--------------------+-------------+---------------+--------------+------------------+-----------------------+--------------+---------------+-----------------------+--------------------+-----------+\n",
      "only showing top 6 rows\n",
      "\n"
     ]
    }
   ],
   "source": [
    "df_final.show(6)"
   ]
  },
  {
   "cell_type": "code",
   "execution_count": 30,
   "metadata": {},
   "outputs": [],
   "source": [
    "sclcol = [\"int_rate\",\"installment\",\"annual_inc\",\"dti\",\"open_acc\",\"pub_rec\",\n",
    "          \"revol_bal\",\"revol_util\",\"mort_acc\",\"pub_rec_bankruptcies\"]"
   ]
  },
  {
   "cell_type": "code",
   "execution_count": 31,
   "metadata": {},
   "outputs": [],
   "source": [
    "from pyspark.ml.feature import VectorAssembler\n",
    "from pyspark.ml.feature import StandardScaler\n",
    "\n",
    "assembler = VectorAssembler(inputCols=sclcol, outputCol=\"features\")\n",
    "\n",
    "output = assembler.transform(df_final)\n",
    "scaler = StandardScaler(inputCol=\"features\", outputCol=\"featues_scl\",\n",
    "                        withStd=True, withMean=False)\n",
    "\n",
    "df_final2 = scaler.fit(output).transform(output)"
   ]
  },
  {
   "cell_type": "code",
   "execution_count": 32,
   "metadata": {},
   "outputs": [
    {
     "name": "stdout",
     "output_type": "stream",
     "text": [
      "root\n",
      " |-- int_rate: float (nullable = true)\n",
      " |-- installment: float (nullable = true)\n",
      " |-- annual_inc: float (nullable = true)\n",
      " |-- dti: float (nullable = true)\n",
      " |-- open_acc: float (nullable = true)\n",
      " |-- pub_rec: float (nullable = true)\n",
      " |-- revol_bal: float (nullable = true)\n",
      " |-- revol_util: float (nullable = true)\n",
      " |-- mort_acc: float (nullable = true)\n",
      " |-- pub_rec_bankruptcies: float (nullable = true)\n",
      " |-- term_vec: vector (nullable = true)\n",
      " |-- sub_grade_vec: vector (nullable = true)\n",
      " |-- emp_length_vec: vector (nullable = true)\n",
      " |-- home_ownership_vec: vector (nullable = true)\n",
      " |-- verification_status_vec: vector (nullable = true)\n",
      " |-- purpose_vec: vector (nullable = true)\n",
      " |-- addr_state_vec: vector (nullable = true)\n",
      " |-- initial_list_status_vec: vector (nullable = true)\n",
      " |-- application_type_vec: vector (nullable = true)\n",
      " |-- loan_status: string (nullable = true)\n",
      " |-- features: vector (nullable = true)\n",
      " |-- featues_scl: vector (nullable = true)\n",
      "\n"
     ]
    }
   ],
   "source": [
    "df_final2.printSchema()"
   ]
  },
  {
   "cell_type": "code",
   "execution_count": 33,
   "metadata": {},
   "outputs": [],
   "source": [
    "df_new2 = df_final2.select('term_vec','sub_grade_vec','emp_length_vec','home_ownership_vec','verification_status_vec','purpose_vec',\n",
    "                   'addr_state_vec','initial_list_status_vec','application_type_vec','loan_status','featues_scl')"
   ]
  },
  {
   "cell_type": "code",
   "execution_count": 34,
   "metadata": {},
   "outputs": [
    {
     "name": "stdout",
     "output_type": "stream",
     "text": [
      "+-------------+---------------+--------------+------------------+-----------------------+--------------+---------------+-----------------------+--------------------+-----------+--------------------+\n",
      "|     term_vec|  sub_grade_vec|emp_length_vec|home_ownership_vec|verification_status_vec|   purpose_vec| addr_state_vec|initial_list_status_vec|application_type_vec|loan_status|         featues_scl|\n",
      "+-------------+---------------+--------------+------------------+-----------------------+--------------+---------------+-----------------------+--------------------+-----------+--------------------+\n",
      "|(1,[0],[1.0])|(34,[14],[1.0])|(10,[4],[1.0])|     (5,[0],[1.0])|          (2,[1],[1.0])|(13,[0],[1.0])| (50,[1],[1.0])|          (1,[0],[1.0])|       (1,[0],[1.0])|          0|[1.11197780530713...|\n",
      "|(1,[0],[1.0])|(34,[14],[1.0])|(10,[0],[1.0])|     (5,[0],[1.0])|          (2,[1],[1.0])|(13,[0],[1.0])|(50,[13],[1.0])|              (1,[],[])|       (1,[0],[1.0])|          0|[1.11197780530713...|\n",
      "|(1,[0],[1.0])|(34,[14],[1.0])|(10,[0],[1.0])|     (5,[0],[1.0])|          (2,[1],[1.0])|(13,[1],[1.0])| (50,[9],[1.0])|              (1,[],[])|       (1,[0],[1.0])|          0|[1.11197780530713...|\n",
      "|(1,[0],[1.0])|(34,[14],[1.0])|(10,[0],[1.0])|     (5,[0],[1.0])|          (2,[1],[1.0])|(13,[2],[1.0])| (50,[4],[1.0])|          (1,[0],[1.0])|       (1,[0],[1.0])|          0|[1.11197780530713...|\n",
      "|(1,[0],[1.0])|(34,[14],[1.0])|(10,[0],[1.0])|     (5,[0],[1.0])|          (2,[1],[1.0])|(13,[0],[1.0])| (50,[8],[1.0])|          (1,[0],[1.0])|       (1,[0],[1.0])|          0|[1.11197780530713...|\n",
      "|(1,[0],[1.0])|(34,[14],[1.0])|(10,[0],[1.0])|     (5,[0],[1.0])|          (2,[1],[1.0])|(13,[0],[1.0])|(50,[23],[1.0])|          (1,[0],[1.0])|       (1,[0],[1.0])|          0|[1.11197780530713...|\n",
      "+-------------+---------------+--------------+------------------+-----------------------+--------------+---------------+-----------------------+--------------------+-----------+--------------------+\n",
      "only showing top 6 rows\n",
      "\n"
     ]
    }
   ],
   "source": [
    "df_new2.show(6)"
   ]
  },
  {
   "cell_type": "code",
   "execution_count": 35,
   "metadata": {},
   "outputs": [
    {
     "data": {
      "text/plain": [
       "Text(0.5, 1.0, 'Check the balance')"
      ]
     },
     "execution_count": 35,
     "metadata": {},
     "output_type": "execute_result"
    },
    {
     "data": {
      "image/png": "[encoded data removed]",
      "text/plain": [
       "<Figure size 432x288 with 1 Axes>"
      ]
     },
     "metadata": {
      "needs_background": "light"
     },
     "output_type": "display_data"
    }
   ],
   "source": [
    "df_vis2 = df_new2.select(df_new2.loan_status.cast(\"integer\").alias('loan_status')).toPandas()\n",
    "sns.countplot(x='loan_status',data=df_vis2)\n",
    "plt.title('Check the balance')"
   ]
  },
  {
   "cell_type": "code",
   "execution_count": 36,
   "metadata": {},
   "outputs": [
    {
     "name": "stdout",
     "output_type": "stream",
     "text": [
      "ratio: 4\n"
     ]
    }
   ],
   "source": [
    "major_df = df_new2.filter(col(\"loan_status\") == 0)\n",
    "minor_df = df_new2.filter(col(\"loan_status\") == 1)\n",
    "ratio = int(major_df.count()/minor_df.count())\n",
    "print(\"ratio: {}\".format(ratio))"
   ]
  },
  {
   "cell_type": "code",
   "execution_count": 37,
   "metadata": {},
   "outputs": [
    {
     "name": "stdout",
     "output_type": "stream",
     "text": [
      "+-------------+---------------+--------------+------------------+-----------------------+--------------+---------------+-----------------------+--------------------+-----------+--------------------+\n",
      "|     term_vec|  sub_grade_vec|emp_length_vec|home_ownership_vec|verification_status_vec|   purpose_vec| addr_state_vec|initial_list_status_vec|application_type_vec|loan_status|         featues_scl|\n",
      "+-------------+---------------+--------------+------------------+-----------------------+--------------+---------------+-----------------------+--------------------+-----------+--------------------+\n",
      "|(1,[0],[1.0])|(34,[14],[1.0])|(10,[0],[1.0])|     (5,[0],[1.0])|          (2,[1],[1.0])|(13,[2],[1.0])| (50,[4],[1.0])|          (1,[0],[1.0])|       (1,[0],[1.0])|          0|[1.11197780530713...|\n",
      "|(1,[0],[1.0])|(34,[14],[1.0])|(10,[0],[1.0])|     (5,[0],[1.0])|          (2,[1],[1.0])|(13,[0],[1.0])| (50,[1],[1.0])|          (1,[0],[1.0])|       (1,[0],[1.0])|          0|[1.11197780530713...|\n",
      "|(1,[0],[1.0])|(34,[14],[1.0])|(10,[0],[1.0])|     (5,[0],[1.0])|              (2,[],[])|(13,[0],[1.0])| (50,[3],[1.0])|          (1,[0],[1.0])|       (1,[0],[1.0])|          0|[1.11197780530713...|\n",
      "|(1,[0],[1.0])|(34,[14],[1.0])|(10,[3],[1.0])|     (5,[0],[1.0])|          (2,[0],[1.0])|(13,[0],[1.0])|(50,[11],[1.0])|              (1,[],[])|       (1,[0],[1.0])|          0|[1.11197780530713...|\n",
      "|(1,[0],[1.0])|(34,[14],[1.0])|(10,[2],[1.0])|     (5,[0],[1.0])|          (2,[1],[1.0])|(13,[1],[1.0])|(50,[17],[1.0])|          (1,[0],[1.0])|       (1,[0],[1.0])|          0|[1.11197780530713...|\n",
      "+-------------+---------------+--------------+------------------+-----------------------+--------------+---------------+-----------------------+--------------------+-----------+--------------------+\n",
      "only showing top 5 rows\n",
      "\n"
     ]
    }
   ],
   "source": [
    "sampled_majority_df = major_df.sample(False, 1/ratio)\n",
    "combined_df = sampled_majority_df.unionAll(minor_df)\n",
    "combined_df.show(5)"
   ]
  },
  {
   "cell_type": "code",
   "execution_count": 38,
   "metadata": {},
   "outputs": [
    {
     "data": {
      "text/plain": [
       "Text(0.5, 1.0, 'Check the balance')"
      ]
     },
     "execution_count": 38,
     "metadata": {},
     "output_type": "execute_result"
    },
    {
     "data": {
      "image/png": "[encoded data removed]",
      "text/plain": [
       "<Figure size 432x288 with 1 Axes>"
      ]
     },
     "metadata": {
      "needs_background": "light"
     },
     "output_type": "display_data"
    }
   ],
   "source": [
    "df_vis3 = combined_df.select(combined_df.loan_status.cast(\"integer\").alias('loan_status')).toPandas()\n",
    "sns.countplot(x='loan_status',data=df_vis3)\n",
    "plt.title('Check the balance')"
   ]
  },
  {
   "cell_type": "code",
   "execution_count": 39,
   "metadata": {},
   "outputs": [],
   "source": [
    "assembler_final = VectorAssembler(inputCols=['term_vec','sub_grade_vec','emp_length_vec','home_ownership_vec',\n",
    "                                             'verification_status_vec','purpose_vec','addr_state_vec',\n",
    "                                             'initial_list_status_vec','application_type_vec','featues_scl'],\n",
    "                                  outputCol=\"features_final\")\n",
    "\n",
    "output = assembler_final.transform(combined_df)\n",
    "df_model=output.select(\"features_final\", \"loan_status\")"
   ]
  },
  {
   "cell_type": "code",
   "execution_count": 40,
   "metadata": {},
   "outputs": [
    {
     "name": "stdout",
     "output_type": "stream",
     "text": [
      "+--------------------+-----------+\n",
      "|      features_final|loan_status|\n",
      "+--------------------+-----------+\n",
      "|(127,[0,15,35,45,...|          0|\n",
      "|(127,[0,15,35,45,...|          0|\n",
      "|(127,[0,15,35,45,...|          0|\n",
      "|(127,[0,15,38,45,...|          0|\n",
      "|(127,[0,15,37,45,...|          0|\n",
      "|(127,[0,19,35,45,...|          0|\n",
      "+--------------------+-----------+\n",
      "only showing top 6 rows\n",
      "\n"
     ]
    }
   ],
   "source": [
    "df_model.show(6)"
   ]
  },
  {
   "cell_type": "code",
   "execution_count": 41,
   "metadata": {},
   "outputs": [],
   "source": [
    "from pyspark.sql.types import IntegerType\n",
    "df_model = df_model.withColumn(\"loan_status\", df_model[\"loan_status\"].cast('integer'))"
   ]
  },
  {
   "cell_type": "code",
   "execution_count": 42,
   "metadata": {},
   "outputs": [
    {
     "name": "stdout",
     "output_type": "stream",
     "text": [
      "+--------------------+-----------+\n",
      "|      features_final|loan_status|\n",
      "+--------------------+-----------+\n",
      "|(127,[0,15,35,45,...|          0|\n",
      "|(127,[0,15,35,45,...|          0|\n",
      "|(127,[0,15,35,45,...|          0|\n",
      "|(127,[0,15,38,45,...|          0|\n",
      "|(127,[0,15,37,45,...|          0|\n",
      "|(127,[0,19,35,45,...|          0|\n",
      "+--------------------+-----------+\n",
      "only showing top 6 rows\n",
      "\n"
     ]
    }
   ],
   "source": [
    "df_model.show(6)"
   ]
  },
  {
   "cell_type": "code",
   "execution_count": 43,
   "metadata": {},
   "outputs": [],
   "source": [
    "train, test = df_model.randomSplit([0.8, 0.2], seed=12345)"
   ]
  },
  {
   "cell_type": "code",
   "execution_count": 44,
   "metadata": {},
   "outputs": [
    {
     "name": "stdout",
     "output_type": "stream",
     "text": [
      "Coefficients: \n",
      "1 X 127 CSRMatrix\n",
      "(0,117) 0.1278\n",
      "Intercept: [-0.38093178003032074]\n",
      "False positive rate by label:\n",
      "label 0: 0.421190930736395\n",
      "label 1: 0.31989206935027037\n",
      "True positive rate by label:\n",
      "label 0: 0.6801079306497296\n",
      "label 1: 0.578809069263605\n",
      "Precision by label:\n",
      "label 0: 0.6174747351759405\n",
      "label 1: 0.6441244397763283\n",
      "Recall by label:\n",
      "label 0: 0.6801079306497296\n",
      "label 1: 0.578809069263605\n",
      "F-measure by label:\n",
      "label 0: 0.6472797077661006\n",
      "label 1: 0.6097225478261116\n",
      "Accuracy: 0.6294503502354569\n",
      "FPR: 0.3705333503221223\n",
      "TPR: 0.6294503502354569\n",
      "F-measure: 0.6284981062381263\n",
      "Precision: 0.6308017315048022\n",
      "Recall: 0.6294503502354569\n"
     ]
    }
   ],
   "source": [
    "from pyspark.ml.classification import LogisticRegression\n",
    "\n",
    "lr = LogisticRegression(maxIter=100, regParam=0.15, elasticNetParam=0.8,featuresCol = 'features_final', \n",
    "                        labelCol = 'loan_status')\n",
    "\n",
    "# Fit the model\n",
    "lrModel = lr.fit(train)\n",
    "\n",
    "# Print the coefficients and intercept for multinomial logistic regression\n",
    "print(\"Coefficients: \\n\" + str(lrModel.coefficientMatrix))\n",
    "print(\"Intercept: \" + str(lrModel.interceptVector))\n",
    "\n",
    "trainingSummary = lrModel.summary\n",
    "\n",
    "# for multiclass, we can inspect metrics on a per-label basis\n",
    "print(\"False positive rate by label:\")\n",
    "for i, rate in enumerate(trainingSummary.falsePositiveRateByLabel):\n",
    "    print(\"label %d: %s\" % (i, rate))\n",
    "\n",
    "print(\"True positive rate by label:\")\n",
    "for i, rate in enumerate(trainingSummary.truePositiveRateByLabel):\n",
    "    print(\"label %d: %s\" % (i, rate))\n",
    "\n",
    "print(\"Precision by label:\")\n",
    "for i, prec in enumerate(trainingSummary.precisionByLabel):\n",
    "    print(\"label %d: %s\" % (i, prec))\n",
    "\n",
    "print(\"Recall by label:\")\n",
    "for i, rec in enumerate(trainingSummary.recallByLabel):\n",
    "    print(\"label %d: %s\" % (i, rec))\n",
    "\n",
    "print(\"F-measure by label:\")\n",
    "for i, f in enumerate(trainingSummary.fMeasureByLabel()):\n",
    "    print(\"label %d: %s\" % (i, f))\n",
    "\n",
    "accuracy = trainingSummary.accuracy\n",
    "falsePositiveRate = trainingSummary.weightedFalsePositiveRate\n",
    "truePositiveRate = trainingSummary.weightedTruePositiveRate\n",
    "fMeasure = trainingSummary.weightedFMeasure()\n",
    "precision = trainingSummary.weightedPrecision\n",
    "recall = trainingSummary.weightedRecall\n",
    "print(\"Accuracy: %s\\nFPR: %s\\nTPR: %s\\nF-measure: %s\\nPrecision: %s\\nRecall: %s\"\n",
    "      % (accuracy, falsePositiveRate, truePositiveRate, fMeasure, precision, recall))"
   ]
  },
  {
   "cell_type": "code",
   "execution_count": 45,
   "metadata": {},
   "outputs": [],
   "source": [
    "from pyspark.ml import Pipeline\n",
    "from pyspark.ml.classification import RandomForestClassifier\n",
    "from pyspark.ml.feature import IndexToString, StringIndexer, VectorIndexer\n",
    "from pyspark.ml.evaluation import MulticlassClassificationEvaluator\n",
    "\n",
    "labelIndexer = StringIndexer(inputCol=\"loan_status\", outputCol=\"indexedLabel\").fit(df_model)\n",
    "\n",
    "# Train a RandomForest model.\n",
    "rf = RandomForestClassifier(labelCol=\"loan_status\", featuresCol=\"features_final\", numTrees=10)\n",
    "\n",
    "# Convert indexed labels back to original labels.\n",
    "labelConverter = IndexToString(inputCol=\"prediction\", outputCol=\"predictedLabel\",\n",
    "                               labels=labelIndexer.labels)\n",
    "\n",
    "# Chain indexers and forest in a Pipeline\n",
    "pipeline = Pipeline(stages=[labelIndexer, rf, labelConverter])\n",
    "\n",
    "# Train model.  This also runs the indexers.\n",
    "model = pipeline.fit(train)\n",
    "\n",
    "# Make predictions.\n",
    "predictions = model.transform(test)\n"
   ]
  },
  {
   "cell_type": "code",
   "execution_count": 46,
   "metadata": {},
   "outputs": [
    {
     "name": "stdout",
     "output_type": "stream",
     "text": [
      "+----------+-----------+--------------------+\n",
      "|prediction|loan_status|      features_final|\n",
      "+----------+-----------+--------------------+\n",
      "|       0.0|          0|(127,[0,1,35,45,5...|\n",
      "|       1.0|          0|(127,[0,1,36,45,5...|\n",
      "|       0.0|          0|(127,[0,1,36,46,5...|\n",
      "|       0.0|          0|(127,[0,1,36,46,5...|\n",
      "|       0.0|          0|(127,[0,1,37,47,5...|\n",
      "+----------+-----------+--------------------+\n",
      "only showing top 5 rows\n",
      "\n",
      "Test Error = 0.362319\n",
      "IndexToString_2bd33fe4e03f\n"
     ]
    }
   ],
   "source": [
    "# Select example rows to display.\n",
    "predictions.select(\"prediction\", \"loan_status\", \"features_final\").show(5)\n",
    "\n",
    "# Select (prediction, true label) and compute test error\n",
    "evaluator = MulticlassClassificationEvaluator(\n",
    "    labelCol=\"loan_status\", predictionCol=\"prediction\", metricName=\"accuracy\")\n",
    "accuracy = evaluator.evaluate(predictions)\n",
    "print(\"Test Error = %g\" % (1.0 - accuracy))\n",
    "\n",
    "rfModel = model.stages[2]\n",
    "print(rfModel)  # summary only"
   ]
  },
  {
   "cell_type": "code",
   "execution_count": 47,
   "metadata": {},
   "outputs": [
    {
     "name": "stdout",
     "output_type": "stream",
     "text": [
      "+----------+-----------+--------------------+\n",
      "|prediction|loan_status|      features_final|\n",
      "+----------+-----------+--------------------+\n",
      "|       0.0|          0|(127,[0,1,35,45,5...|\n",
      "|       1.0|          0|(127,[0,1,36,45,5...|\n",
      "|       0.0|          0|(127,[0,1,36,46,5...|\n",
      "|       0.0|          0|(127,[0,1,36,46,5...|\n",
      "|       0.0|          0|(127,[0,1,37,47,5...|\n",
      "+----------+-----------+--------------------+\n",
      "only showing top 5 rows\n",
      "\n",
      "Test Error = 0.362319\n",
      "IndexToString_2bd33fe4e03f\n"
     ]
    }
   ],
   "source": [
    "from pyspark.ml.classification import GBTClassifier\n",
    "\n",
    "# Train a GBT model.\n",
    "gbt = GBTClassifier(labelCol=\"loan_status\", featuresCol=\"features_final\", maxIter=1200)\n",
    "\n",
    "# Chain indexers and GBT in a Pipeline\n",
    "pipeline_gb = Pipeline(stages=[labelIndexer, gbt])\n",
    "\n",
    "# Train model.  This also runs the indexers.\n",
    "model_gb = pipeline.fit(train)\n",
    "\n",
    "# Make predictions.\n",
    "predictions_gb = model_gb.transform(test)\n",
    "\n",
    "# Select example rows to display.\n",
    "predictions_gb.select(\"prediction\", \"loan_status\", \"features_final\").show(5)\n",
    "\n",
    "# Select (prediction, true label) and compute test error\n",
    "evaluator_gb = MulticlassClassificationEvaluator(\n",
    "    labelCol=\"loan_status\", predictionCol=\"prediction\", metricName=\"accuracy\")\n",
    "accuracy_gb = evaluator_gb.evaluate(predictions_gb)\n",
    "print(\"Test Error = %g\" % (1.0 - accuracy_gb))\n",
    "\n",
    "gbtModel = model_gb.stages[2]\n",
    "print(gbtModel)  # summary only"
   ]
  }
 ],
 "metadata": {
  "kernelspec": {
   "display_name": "Python 3",
   "language": "python",
   "name": "python3"
  },
  "language_info": {
   "codemirror_mode": {
    "name": "ipython",
    "version": 3
   },
   "file_extension": ".py",
   "mimetype": "text/x-python",
   "name": "python",
   "nbconvert_exporter": "python",
   "pygments_lexer": "ipython3",
   "version": "3.8.5"
  }
 },
 "nbformat": 4,
 "nbformat_minor": 4
}
